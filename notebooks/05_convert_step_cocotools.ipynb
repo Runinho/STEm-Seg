{
 "cells": [
  {
   "cell_type": "code",
   "execution_count": null,
   "metadata": {
    "collapsed": true,
    "pycharm": {
     "name": "#%%\n"
    }
   },
   "outputs": [],
   "source": [
    "# convert the .png annotations to the txt format of MOTS\n",
    "# In other words: convert the STEP annotation to the compatible json format used by MOTSDataLoader\n",
    "\n",
    "# References\n",
    "# KITTI-STEP annotation format: https://github.com/google-research/deeplab2/blob/main/g3doc/setup/kitti_step.md\n",
    "# MOTS TXT annotation format: https://www.vision.rwth-aachen.de/page/mots\n",
    "\n",
    "# download labels from\n",
    "# http://www.cvlibs.net/datasets/kitti/eval_step.php direct link: https://storage.googleapis.com/gresearch/tf-deeplab/data/kitti-step.tar.gz\n",
    "# We need the data from sequenze 2 from (moved to sequenze 50) :https://motchallenge.net/data/STEP-ICCV21/ direct link: https://motchallenge.net/data/motchallenge-step.tar.gz\n"
   ]
  },
  {
   "cell_type": "code",
   "execution_count": null,
   "outputs": [],
   "source": [
    "from pathlib import Path\n",
    "from PIL import Image\n",
    "import numpy as np\n",
    "import matplotlib.pyplot as plt\n",
    "from pycocotools import mask\n",
    "from tqdm import tqdm\n",
    "import json"
   ],
   "metadata": {
    "collapsed": false,
    "pycharm": {
     "name": "#%%\n"
    }
   }
  },
  {
   "cell_type": "code",
   "execution_count": null,
   "outputs": [],
   "source": [
    "ano_dir = Path(\"/home/rune/thesis/data/step/kitti-step/panoptic_maps\")\n",
    "# TODO: load json for the image paths\n",
    "example_annotation = Path(ano_dir) / \"train\" / \"0000\" / \"000000.png\""
   ],
   "metadata": {
    "collapsed": false,
    "pycharm": {
     "name": "#%%\n"
    }
   }
  },
  {
   "cell_type": "code",
   "execution_count": null,
   "outputs": [],
   "source": [
    "def encode_mask(mask_array):\n",
    "    to_encode = np.asfortranarray(mask_array, dtype=np.uint8)\n",
    "    encoded = mask.encode(to_encode)[\"counts\"].decode(\"utf8\")\n",
    "    return encoded"
   ],
   "metadata": {
    "collapsed": false,
    "pycharm": {
     "name": "#%%\n"
    }
   }
  },
  {
   "cell_type": "code",
   "execution_count": null,
   "outputs": [],
   "source": [
    "sub_folder = \"train\"\n",
    "kitti_mots_json = f\"/home/rune/thesis/data/dataset_jsons/kittimots_{sub_folder}.json\"\n",
    "# load old data\n",
    "mots_data = json.load(open(kitti_mots_json, \"r\"))\n",
    "category_labels = {'0': 'road',\n",
    " '1': 'sidewalk',\n",
    " '2': 'building',\n",
    " '3': 'wall',\n",
    " '4': 'fence',\n",
    " '5': 'pole',\n",
    " '6': 'trafficlight',\n",
    " '7': 'trafficsign',\n",
    " '8': 'vegetation',\n",
    " '9': 'terrain',\n",
    " '10': 'sky',\n",
    " '11': 'person',\n",
    " '12': 'rider',\n",
    " '13': 'car',\n",
    " '14': 'truck',\n",
    " '15': 'bus',\n",
    " '16': 'train',\n",
    " '17': 'motorcycle',\n",
    " '18': 'bicycle',\n",
    " '255': 'void'}\n",
    "mots_data[\"meta\"][\"category_labels\"] = category_labels\n",
    "mots_data[\"meta\"][\"name\"] = f\"kitti_step_{sub_folder}\"\n",
    "\n",
    "for sequenze in mots_data[\"sequences\"]:\n",
    "    id = sequenze[\"id\"]\n",
    "    # print(id)\n",
    "    # mapping from the new_instance_id to the category\n",
    "    # the new_instance_id is the class_id_instance_id\n",
    "    categories = {}\n",
    "    # dict of mask for every instance for every timestamp\n",
    "    segmentations = []\n",
    "\n",
    "    for filename in tqdm(sequenze[\"image_paths\"]):\n",
    "        # TODO: check if the image size matches\n",
    "        # TODO: use same naming as in the other dataloaders (category and instance)\n",
    "        # laod annotation\n",
    "        img = Image.open(open(ano_dir / sub_folder / Path(filename).with_suffix(\".png\"), \"rb\"))\n",
    "        img = np.array(img)\n",
    "        # convert to instance id and label\n",
    "        category = img[:,:,0]\n",
    "        instance= img[:,:,1] * 256 + img[:,:,2]\n",
    "\n",
    "        instanceids = np.unique(instance)\n",
    "\n",
    "        image_segmentations = {}\n",
    "        # convert to masks\n",
    "        for class_id in np.unique(category):\n",
    "            category_mask = category == class_id\n",
    "            # handle pedestrians and cars with respect ot their instance_id\n",
    "            # TODO: with some computational overhead we could remove this and always take this branch.\n",
    "            if class_id in [11, 13]:\n",
    "                for id in instanceids:\n",
    "                    # check if we have a overlap, meaning we have a instance of that class\n",
    "                    instance_mask = category_mask & (instance == id)\n",
    "                    if instance_mask.any():\n",
    "                        # create a new instanceid\n",
    "                        new_instance_id = f\"{class_id}_{id}\"\n",
    "                        categories[new_instance_id] = int(class_id)\n",
    "                        image_segmentations[new_instance_id] = encode_mask(instance_mask)\n",
    "            else:\n",
    "                new_instance_id = f\"{class_id}\"\n",
    "                categories[new_instance_id] = int(class_id)\n",
    "                image_segmentations[new_instance_id] = encode_mask(category_mask)\n",
    "\n",
    "        segmentations.append(image_segmentations)\n",
    "    sequenze[\"categories\"] = categories\n",
    "    sequenze[\"segmentations\"] = segmentations\n",
    "    assert len(segmentations) == len(sequenze[\"image_paths\"])\n",
    "    assert len(segmentations) == sequenze[\"length\"]\n"
   ],
   "metadata": {
    "collapsed": false,
    "pycharm": {
     "name": "#%%\n"
    }
   }
  },
  {
   "cell_type": "code",
   "execution_count": null,
   "outputs": [],
   "source": [
    "with open(f\"kittistep_{sub_folder}.json\", \"w\") as f:\n",
    "    json.dump(mots_data, f)"
   ],
   "metadata": {
    "collapsed": false,
    "pycharm": {
     "name": "#%%\n"
    }
   }
  }
 ],
 "metadata": {
  "kernelspec": {
   "display_name": "Python 3",
   "language": "python",
   "name": "python3"
  },
  "language_info": {
   "codemirror_mode": {
    "name": "ipython",
    "version": 2
   },
   "file_extension": ".py",
   "mimetype": "text/x-python",
   "name": "python",
   "nbconvert_exporter": "python",
   "pygments_lexer": "ipython2",
   "version": "2.7.6"
  }
 },
 "nbformat": 4,
 "nbformat_minor": 0
}