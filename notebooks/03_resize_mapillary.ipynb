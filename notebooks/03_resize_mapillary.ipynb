{
 "cells": [
  {
   "cell_type": "code",
   "execution_count": null,
   "metadata": {
    "collapsed": true,
    "pycharm": {
     "name": "#%%\n"
    }
   },
   "outputs": [],
   "source": [
    "# we need to resize the mapilariy images\n",
    "# Step 1: Load required dimension from \"stemseg/data/metainfo/mapilary_)iamge_dims.json\"\n",
    "# Step 2: resize images with Opencvs cv2.resize method with interpolation=cv2.INTER_LINEAR"
   ]
  },
  {
   "cell_type": "code",
   "execution_count": null,
   "outputs": [],
   "source": [
    "import json\n",
    "import cv2\n",
    "from pathlib import Path"
   ],
   "metadata": {
    "collapsed": false,
    "pycharm": {
     "name": "#%%\n"
    }
   }
  },
  {
   "cell_type": "code",
   "execution_count": null,
   "outputs": [],
   "source": [
    "json_path = Path(\"..\") / \"stemseg\" / \"data\" / \"metainfo\" / \"mapillary_image_dims.json\"\n",
    "org_dir = Path(\"\")\n",
    "resized_dir = Path(\"\")"
   ],
   "metadata": {
    "collapsed": false,
    "pycharm": {
     "name": "#%%\n"
    }
   }
  },
  {
   "cell_type": "code",
   "execution_count": null,
   "outputs": [],
   "source": [
    "size_dict = json.load(open(json_path, \"r\"))\n",
    "\n",
    "for i, (image_name, new_size) in enumerate(size_dict.items()):\n",
    "    img = cv2.imread(org_dir / image_name)\n",
    "    img = cv2.resize(new_size)\n",
    "    cv2.imwrite(resized_dir / image_name)\n",
    "    print(i)"
   ],
   "metadata": {
    "collapsed": false,
    "pycharm": {
     "name": "#%%\n"
    }
   }
  }
 ],
 "metadata": {
  "kernelspec": {
   "display_name": "Python 3",
   "language": "python",
   "name": "python3"
  },
  "language_info": {
   "codemirror_mode": {
    "name": "ipython",
    "version": 2
   },
   "file_extension": ".py",
   "mimetype": "text/x-python",
   "name": "python",
   "nbconvert_exporter": "python",
   "pygments_lexer": "ipython2",
   "version": "2.7.6"
  }
 },
 "nbformat": 4,
 "nbformat_minor": 0
}