{
 "cells": [
  {
   "cell_type": "code",
   "execution_count": null,
   "metadata": {
    "collapsed": true,
    "pycharm": {
     "is_executing": true,
     "name": "#%%\n"
    }
   },
   "outputs": [],
   "source": [
    "# convert image sequence to mp4s for a comfortable viewing experience\n",
    "import os\n",
    "\n",
    "#image_02 folder of http://www.cvlibs.net/download.php?file=data_tracking_image_2.zip\n",
    "input_dir = \"~/thesis/data/step/training/image_02\"\n",
    "output_dir = \"~/thesis/data/step/training_videos\"\n",
    "framerate = 30 # original frame rate is 10\n",
    "\n",
    "for i in range(20):\n",
    "    print(f\"converting {i}\")\n",
    "    cmd = f\"ffmpeg -r 30 -f image2 -i {input_dir}/{i:04d}/%6d.png -s 1242x376 -vcodec libx264 -crf 23 -pix_fmt yuv420p -y {output_dir}/{i:04d}.mp4\"\n",
    "    print(f\"running {cmd}\")\n",
    "    os.system(cmd)"
   ]
  }
 ],
 "metadata": {
  "kernelspec": {
   "display_name": "Python 3",
   "language": "python",
   "name": "python3"
  },
  "language_info": {
   "codemirror_mode": {
    "name": "ipython",
    "version": 2
   },
   "file_extension": ".py",
   "mimetype": "text/x-python",
   "name": "python",
   "nbconvert_exporter": "python",
   "pygments_lexer": "ipython2",
   "version": "2.7.6"
  }
 },
 "nbformat": 4,
 "nbformat_minor": 0
}