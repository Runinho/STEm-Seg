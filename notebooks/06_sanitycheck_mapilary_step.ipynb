{
 "cells": [
  {
   "cell_type": "code",
   "execution_count": 1,
   "metadata": {
    "collapsed": true,
    "pycharm": {
     "name": "#%%\n"
    }
   },
   "outputs": [],
   "source": [
    "from stemseg.utils import RepoPaths\n",
    "import yaml"
   ]
  },
  {
   "cell_type": "code",
   "execution_count": 2,
   "outputs": [],
   "source": [
    "with open(RepoPaths.dataset_meta_info_dir() / \"mapillary_step.yaml\", 'r') as fh:\n",
    "   category_details = yaml.load(fh, Loader=yaml.SafeLoader)"
   ],
   "metadata": {
    "collapsed": false,
    "pycharm": {
     "name": "#%%\n"
    }
   }
  },
  {
   "cell_type": "code",
   "execution_count": 3,
   "outputs": [
    {
     "name": "stdout",
     "output_type": "stream",
     "text": [
      "{0, 1, 2, 3, 4, 5, 6, 7, 8, 9, 10, 11, 12, 13, 14, 15, 16, 17, 18}\n"
     ]
    },
    {
     "data": {
      "text/plain": "True"
     },
     "execution_count": 3,
     "metadata": {},
     "output_type": "execute_result"
    }
   ],
   "source": [
    "# do all ids have a mapping (except void)\n",
    "mappedids = set(c[\"id_kittistep\"] for c in category_details if \"id_kittistep\" in c)\n",
    "print(mappedids)\n",
    "mappedids == set(range(19))"
   ],
   "metadata": {
    "collapsed": false,
    "pycharm": {
     "name": "#%%\n"
    }
   }
  },
  {
   "cell_type": "code",
   "execution_count": 4,
   "outputs": [],
   "source": [
    "mapped = list(c for c in category_details if \"id_kittistep\" in c)"
   ],
   "metadata": {
    "collapsed": false,
    "pycharm": {
     "name": "#%%\n"
    }
   }
  },
  {
   "cell_type": "code",
   "execution_count": 5,
   "outputs": [
    {
     "name": "stdout",
     "output_type": "stream",
     "text": [
      "looks good :)\n"
     ]
    }
   ],
   "source": [
    "# check if keep and ignore_mask is set correctly\n",
    "for elm in mapped:\n",
    "   assert elm[\"keep\"] == True\n",
    "   assert elm[\"ignore_mask\"] == False\n",
    "print(\"looks good :)\")"
   ],
   "metadata": {
    "collapsed": false,
    "pycharm": {
     "name": "#%%\n"
    }
   }
  },
  {
   "cell_type": "code",
   "execution_count": 6,
   "outputs": [
    {
     "name": "stdout",
     "output_type": "stream",
     "text": [
      "mapillary -> KITII-Step/Cityscapes\n",
      "Fence -> fence\n",
      "Wall -> wall\n",
      "Road -> road\n",
      "Sidewalk -> sidewalk\n",
      "Building -> building\n",
      "Person -> person\n",
      "Bicyclist -> rider\n",
      "Motorcyclist -> rider\n",
      "Other Rider -> rider\n",
      "Sky -> sky\n",
      "Terrain -> terrain\n",
      "Vegetation -> vegetation\n",
      "Pole -> pole\n",
      "Traffic Light -> trafficlight\n",
      "Traffic Sign (Back) -> trafficsign\n",
      "Traffic Sign (Front) -> trafficsign\n",
      "Bicycle -> bicycle\n",
      "Bus -> bus\n",
      "Car -> car\n",
      "Motorcycle -> motorcycle\n",
      "On Rails -> train\n",
      "Truck -> truck\n"
     ]
    }
   ],
   "source": [
    "# check if the labels kinda makes sense\n",
    "cityscapes = {'0': 'road',\n",
    "                '1': 'sidewalk',\n",
    "                '2': 'building',\n",
    "                '3': 'wall',\n",
    "                '4': 'fence',\n",
    "                '5': 'pole',\n",
    "                '6': 'trafficlight',\n",
    "                '7': 'trafficsign',\n",
    "                '8': 'vegetation',\n",
    "                '9': 'terrain',\n",
    "                '10': 'sky',\n",
    "                '11': 'person',\n",
    "                '12': 'rider',\n",
    "                '13': 'car',\n",
    "                '14': 'truck',\n",
    "                '15': 'bus',\n",
    "                '16': 'train',\n",
    "                '17': 'motorcycle',\n",
    "                '18': 'bicycle',\n",
    "                '255': 'void'}\n",
    "print(\"mapillary -> KITII-Step/Cityscapes\")\n",
    "for elm in mapped:\n",
    "   print(f\"{elm['label']} -> {cityscapes[str(elm['id_kittistep'])]}\")\n"
   ],
   "metadata": {
    "collapsed": false,
    "pycharm": {
     "name": "#%%\n"
    }
   }
  }
 ],
 "metadata": {
  "kernelspec": {
   "display_name": "Python 3",
   "language": "python",
   "name": "python3"
  },
  "language_info": {
   "codemirror_mode": {
    "name": "ipython",
    "version": 2
   },
   "file_extension": ".py",
   "mimetype": "text/x-python",
   "name": "python",
   "nbconvert_exporter": "python",
   "pygments_lexer": "ipython2",
   "version": "2.7.6"
  }
 },
 "nbformat": 4,
 "nbformat_minor": 0
}